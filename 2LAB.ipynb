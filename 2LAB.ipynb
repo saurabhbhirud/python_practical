{
  "nbformat": 4,
  "nbformat_minor": 0,
  "metadata": {
    "colab": {
      "provenance": []
    },
    "kernelspec": {
      "name": "python3",
      "display_name": "Python 3"
    },
    "language_info": {
      "name": "python"
    }
  },
  "cells": [
    {
      "cell_type": "markdown",
      "source": [
        "**Laboratory Experiment 2**\n",
        "\n",
        "\n",
        "*   Name     : Saurabh Mahendra Bhirud\n",
        "*   PRN      : 231105007\n",
        "*   Subject  : Python Programming Laboratory\n",
        "*   Branch      : Electrical"
      ],
      "metadata": {
        "id": "lt4NRjojwim5"
      }
    },
    {
      "cell_type": "markdown",
      "source": [
        "**AIM** : To read a number 'n' and print patterns."
      ],
      "metadata": {
        "id": "nSUpopr8weBi"
      }
    },
    {
      "cell_type": "markdown",
      "source": [
        "Number Pattern with Nested Loops in Python"
      ],
      "metadata": {
        "id": "2uKm6Cq7wnGh"
      }
    },
    {
      "cell_type": "code",
      "execution_count": null,
      "metadata": {
        "colab": {
          "base_uri": "https://localhost:8080/"
        },
        "id": "oEm3Fn6-puSk",
        "outputId": "155f9be2-5603-49a7-b671-a0c8b1c19517"
      },
      "outputs": [
        {
          "output_type": "stream",
          "name": "stdout",
          "text": [
            "Enter the number of rows: 8\n",
            "1 \n",
            "2 2 \n",
            "3 3 3 \n",
            "4 4 4 4 \n",
            "5 5 5 5 5 \n",
            "6 6 6 6 6 6 \n",
            "7 7 7 7 7 7 7 \n",
            "8 8 8 8 8 8 8 8 \n"
          ]
        }
      ],
      "source": [
        "rows = int(input('Enter the number of rows: '))\n",
        "# outer loop\n",
        "for i in range(1, rows + 1):\n",
        "    # nested loop\n",
        "    for j in range(i):  # Print i, i times\n",
        "        print(i, end=' ')\n",
        "    # new line after each row\n",
        "    print('')"
      ]
    },
    {
      "cell_type": "markdown",
      "source": [
        "Reverse Number Pattern with Nested Loops in Python"
      ],
      "metadata": {
        "id": "DrDKt_6nwxvB"
      }
    },
    {
      "cell_type": "code",
      "source": [
        "rows = int(input(\"Enter the number of rows: \"))\n",
        "for i in range(1, rows + 1):\n",
        "    for j in range(1, rows + 2 - i):\n",
        "        print(rows + 1 - i, end=\" \")\n",
        "    print()"
      ],
      "metadata": {
        "colab": {
          "base_uri": "https://localhost:8080/"
        },
        "id": "EzHLD3XvqKng",
        "outputId": "63d1531c-f1e2-4467-a39c-e79664c2ba22"
      },
      "execution_count": null,
      "outputs": [
        {
          "output_type": "stream",
          "name": "stdout",
          "text": [
            "Enter the number of rows: 8\n",
            "8 8 8 8 8 8 8 8 \n",
            "7 7 7 7 7 7 7 \n",
            "6 6 6 6 6 6 \n",
            "5 5 5 5 5 \n",
            "4 4 4 4 \n",
            "3 3 3 \n",
            "2 2 \n",
            "1 \n"
          ]
        }
      ]
    }
  ]
}