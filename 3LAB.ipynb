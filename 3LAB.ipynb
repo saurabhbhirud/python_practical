{
  "nbformat": 4,
  "nbformat_minor": 0,
  "metadata": {
    "colab": {
      "provenance": []
    },
    "kernelspec": {
      "name": "python3",
      "display_name": "Python 3"
    },
    "language_info": {
      "name": "python"
    }
  },
  "cells": [
    {
      "cell_type": "markdown",
      "source": [
        "**Laboratory Experiment 3**\n",
        "\n",
        "\n",
        "*   Name     : Saurabh Mahendra Bhirud\n",
        "*   PRN      : 231105007\n",
        "*   Subject  : Python Programming Laboratory\n",
        "*   Branch      : Electrical"
      ],
      "metadata": {
        "id": "JkK4lNM2viRi"
      }
    },
    {
      "cell_type": "markdown",
      "source": [
        "**AIM** : Perform operations on Lists, Tuples, Sets, arrays and dictionaries"
      ],
      "metadata": {
        "id": "To8DxDAIvsGP"
      }
    },
    {
      "cell_type": "markdown",
      "source": [
        "List, Set, and Tuple Operations in Python"
      ],
      "metadata": {
        "id": "RphDxvZJwOuq"
      }
    },
    {
      "cell_type": "code",
      "execution_count": null,
      "metadata": {
        "colab": {
          "base_uri": "https://localhost:8080/"
        },
        "id": "iKAXJuTMqkA7",
        "outputId": "d534c3ce-24fd-4a24-c209-0507df5692c3"
      },
      "outputs": [
        {
          "output_type": "stream",
          "name": "stdout",
          "text": [
            "Adding value 10 and 15 in the list\n",
            "[10, 15, 20]\n",
            "pop first element from list [10, 15]\n",
            "\n",
            "Adding element 10 and 15 in the list 10\n",
            "remove 10 from the set 10\n",
            "\n",
            "tuple [10, 15]\n",
            "\n"
          ]
        }
      ],
      "source": [
        "I=[]\n",
        "I.append(10)\n",
        "I.append(15)\n",
        "I.append(20)\n",
        "print(\"Adding value 10 and 15 in the list\")\n",
        "print(I)\n",
        "I.pop()\n",
        "print(\"pop first element from list\",I)\n",
        "print()\n",
        "s=set()\n",
        "s.add(10)\n",
        "s.add(15)\n",
        "s.add(20)\n",
        "print(\"Adding element 10 and 15 in the list\",10)\n",
        "s.remove(10)\n",
        "print(\"remove 10 from the set\",10)\n",
        "print()\n",
        "t=tuple(I)\n",
        "print(\"tuple\",I)\n",
        "print()"
      ]
    },
    {
      "cell_type": "markdown",
      "source": [
        "Working with tuples in Python"
      ],
      "metadata": {
        "id": "AS2ddMrtvyRv"
      }
    },
    {
      "cell_type": "code",
      "source": [
        "I=[]\n",
        "I.append(10)\n",
        "I.append(15)\n",
        "I.append(20)\n",
        "print(\"Adding value 10 and 15 in the list\")\n",
        "print(I)\n",
        "I.pop()\n",
        "print(\"pop first element from list\",I)\n",
        "print()\n",
        "s=set()\n",
        "s.add(10)\n",
        "s.add(15)\n",
        "s.add(20)\n",
        "print(\"Adding element 10 and 15 in the list\",10)\n",
        "s.remove(10)\n",
        "print(\"remove 10 from the set\",10)\n",
        "print()\n",
        "t=tuple(I)\n",
        "print(\"tuple\",I)\n",
        "print()"
      ],
      "metadata": {
        "colab": {
          "base_uri": "https://localhost:8080/"
        },
        "id": "jMjtoNNVrJL3",
        "outputId": "668b7f2c-bf8c-4cd4-e12f-d94d91d76aa3"
      },
      "execution_count": null,
      "outputs": [
        {
          "output_type": "stream",
          "name": "stdout",
          "text": [
            "Adding value 10 and 15 in the list\n",
            "[10, 15, 20]\n",
            "pop first element from list [10, 15]\n",
            "\n",
            "Adding element 10 and 15 in the list 10\n",
            "remove 10 from the set 10\n",
            "\n",
            "tuple [10, 15]\n",
            "\n"
          ]
        }
      ]
    }
  ]
}