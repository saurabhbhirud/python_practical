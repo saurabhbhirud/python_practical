{
  "nbformat": 4,
  "nbformat_minor": 0,
  "metadata": {
    "colab": {
      "provenance": []
    },
    "kernelspec": {
      "name": "python3",
      "display_name": "Python 3"
    },
    "language_info": {
      "name": "python"
    }
  },
  "cells": [
    {
      "cell_type": "markdown",
      "source": [
        "**Laboratory Experiment 4.1**\n",
        "\n",
        "\n",
        "*   Name     : Saurabh Mahendra Bhirud\n",
        "*   PRN      : 231105007\n",
        "*   Subject  : Python Programming Laboratory\n",
        "*   Branch      : Electrical"
      ],
      "metadata": {
        "id": "CXHwkGWnurjl"
      }
    },
    {
      "cell_type": "markdown",
      "source": [
        "**AIM** : Program to map a list into a dictionary and vice versa"
      ],
      "metadata": {
        "id": "8AECRrWDu0pL"
      }
    },
    {
      "cell_type": "markdown",
      "source": [
        "Map a list into a dictionary"
      ],
      "metadata": {
        "id": "R3mo7Eg_u5Q7"
      }
    },
    {
      "cell_type": "code",
      "source": [
        "dict = {\"red\":'Pink',\"green\":'Gold',\"blue\":'Black'}\n",
        "res_list = dict.values()\n",
        "res_list1 = dict.keys()\n",
        "new_value = list(res_list)\n",
        "new_value1 = list(res_list1)\n",
        "print(new_value)\n",
        "print(new_value1)"
      ],
      "metadata": {
        "colab": {
          "base_uri": "https://localhost:8080/"
        },
        "id": "lzEZ9aEUrl3e",
        "outputId": "3edfe8ad-71dc-425f-b3dc-16e11991f00d"
      },
      "execution_count": null,
      "outputs": [
        {
          "output_type": "stream",
          "name": "stdout",
          "text": [
            "['Pink', 'Gold', 'Black']\n",
            "['red', 'green', 'blue']\n"
          ]
        }
      ]
    },
    {
      "cell_type": "markdown",
      "source": [
        "Use dictionary comprehension"
      ],
      "metadata": {
        "id": "cgOTjCo0zF21"
      }
    },
    {
      "cell_type": "code",
      "source": [
        "numbers = range(10)\n",
        "new_dict_comp = {n:n**2 for n in numbers if n%2 == 0}\n",
        "print(new_dict_comp)"
      ],
      "metadata": {
        "colab": {
          "base_uri": "https://localhost:8080/"
        },
        "id": "DrTiKN_WsJHF",
        "outputId": "33101479-c807-4728-fc07-7aaa9bdef40d"
      },
      "execution_count": null,
      "outputs": [
        {
          "output_type": "stream",
          "name": "stdout",
          "text": [
            "{0: 0, 2: 4, 4: 16, 6: 36, 8: 64}\n"
          ]
        }
      ]
    }
  ]
}