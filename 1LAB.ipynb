{
  "nbformat": 4,
  "nbformat_minor": 0,
  "metadata": {
    "colab": {
      "provenance": []
    },
    "kernelspec": {
      "name": "python3",
      "display_name": "Python 3"
    },
    "language_info": {
      "name": "python"
    }
  },
  "cells": [
    {
      "cell_type": "markdown",
      "source": [
        "**Laboratory Experiment 1**\n",
        "\n",
        "\n",
        "*   Name     : Saurabh Mahendra Bhirud\n",
        "*   PRN      : 231105007\n",
        "*   Subject  : Python Programming Laboratory\n",
        "*   Branch      : Electrical"
      ],
      "metadata": {
        "id": "IXCJheDStdTw"
      }
    },
    {
      "cell_type": "markdown",
      "source": [
        "**AIM** : To introduce basic data types, arithmetic operations, user input handling, and nested list in Python."
      ],
      "metadata": {
        "id": "FbGJFUqU0hDG"
      }
    },
    {
      "cell_type": "markdown",
      "source": [
        "Exploring Data Types in Python"
      ],
      "metadata": {
        "id": "45pIjvdBxLeh"
      }
    },
    {
      "cell_type": "code",
      "execution_count": null,
      "metadata": {
        "colab": {
          "base_uri": "https://localhost:8080/"
        },
        "id": "-vTjjxFnjyFh",
        "outputId": "e2efce56-2bda-4ded-bb8c-5c29bd5b27da"
      },
      "outputs": [
        {
          "output_type": "stream",
          "name": "stdout",
          "text": [
            "5 is of type <class 'int'>\n",
            "2.0 is of type <class 'float'>\n",
            "(1+2j) is complex number? True\n",
            "1.0\n",
            "2.0\n"
          ]
        }
      ],
      "source": [
        "a = 5\n",
        "print(a, \"is of type\", type(a))\n",
        "b = 2.0\n",
        "print(b, \"is of type\", type(b))\n",
        "c = 1+2j\n",
        "print(c, \"is complex number?\", isinstance(c+2j, complex))\n",
        "print(c.real)\n",
        "print(c.imag)"
      ]
    },
    {
      "cell_type": "markdown",
      "source": [
        "Basic Addition with User Input"
      ],
      "metadata": {
        "id": "JFwN2ok_xU_5"
      }
    },
    {
      "cell_type": "code",
      "source": [
        "A=int(input(\"Enter A value \"))# int is for integer, float for decimal numbers\n",
        "#print(a)\n",
        "B=int(input(\"Enter B value \"))\n",
        "#print(b)\n",
        "c=A+B\n",
        "print('The sum is',c)"
      ],
      "metadata": {
        "colab": {
          "base_uri": "https://localhost:8080/"
        },
        "id": "wSP-hHj0ndQW",
        "outputId": "868ca39f-dcfd-4bf6-ec57-f6a534c1106e"
      },
      "execution_count": null,
      "outputs": [
        {
          "output_type": "stream",
          "name": "stdout",
          "text": [
            "Enter A value 100\n",
            "Enter B value 200\n",
            "The sum is 300\n"
          ]
        }
      ]
    },
    {
      "cell_type": "markdown",
      "source": [
        "Basic Substraction with User Input"
      ],
      "metadata": {
        "id": "G8-OyCsJxYqB"
      }
    },
    {
      "cell_type": "code",
      "source": [
        "a=float(input(\"Enter a value \") ) # int is for integer, float for decimal numbers\n",
        "#print(a)\n",
        "b=float(input(\"Enter b value \") )\n",
        "#print(b)\n",
        "c=a-b\n",
        "print(\"The Substraction is\",c)"
      ],
      "metadata": {
        "colab": {
          "base_uri": "https://localhost:8080/"
        },
        "id": "58dO_MQkniHb",
        "outputId": "5ce592c6-0e1f-455e-deb1-b4ecbb42ae43"
      },
      "execution_count": null,
      "outputs": [
        {
          "output_type": "stream",
          "name": "stdout",
          "text": [
            "Enter a value 200\n",
            "Enter b value 100\n",
            "The Substraction is 100.0\n"
          ]
        }
      ]
    },
    {
      "cell_type": "markdown",
      "source": [
        "Basic Multiplication with User Input"
      ],
      "metadata": {
        "id": "kzOBGNmRxfaA"
      }
    },
    {
      "cell_type": "code",
      "source": [
        "a = int(input(\"Enter the first value: \")) # Use int for integer input\n",
        "b = int(input(\"Enter the second value: \")) # Use int for integer input\n",
        "c = a * b\n",
        "print(\"The product is:\", c)"
      ],
      "metadata": {
        "colab": {
          "base_uri": "https://localhost:8080/"
        },
        "id": "Q3Hchc6ynnnJ",
        "outputId": "23d32fbc-b8c1-4634-e1b8-c1bbc4b575f4"
      },
      "execution_count": null,
      "outputs": [
        {
          "output_type": "stream",
          "name": "stdout",
          "text": [
            "Enter the first value: 2\n",
            "Enter the second value: 2\n",
            "The product is: 4\n"
          ]
        }
      ]
    },
    {
      "cell_type": "markdown",
      "source": [
        "Basic Division with User Input"
      ],
      "metadata": {
        "id": "_iT8zdX4xmZq"
      }
    },
    {
      "cell_type": "code",
      "source": [
        "a = int(input(\"Enter the first value: \")) # Use int for integer input\n",
        "b = int(input(\"Enter the second value: \")) # Use int for integer input\n",
        "c = a / b\n",
        "print(\"The product is:\", c)"
      ],
      "metadata": {
        "colab": {
          "base_uri": "https://localhost:8080/"
        },
        "id": "ECmkadQ1nydL",
        "outputId": "d9d6cefb-82b4-41ab-982b-f595f91dd74e"
      },
      "execution_count": null,
      "outputs": [
        {
          "output_type": "stream",
          "name": "stdout",
          "text": [
            "Enter the first value: 50\n",
            "Enter the second value: 5\n",
            "The product is: 10.0\n"
          ]
        }
      ]
    },
    {
      "cell_type": "markdown",
      "source": [
        "Modulo Operation with User Input in Python"
      ],
      "metadata": {
        "id": "LflYGIWBxr_A"
      }
    },
    {
      "cell_type": "code",
      "source": [
        "a = int(input(\"Enter the first value: \")) # Use int for integer input\n",
        "b = int(input(\"Enter the second value: \")) # Use int for integer input\n",
        "c = a % b\n",
        "print(\"The product is:\", c)"
      ],
      "metadata": {
        "colab": {
          "base_uri": "https://localhost:8080/"
        },
        "id": "8klQzUten5Ez",
        "outputId": "bac3558a-9cdc-4bf0-d0eb-67ebb2df54e0"
      },
      "execution_count": null,
      "outputs": [
        {
          "output_type": "stream",
          "name": "stdout",
          "text": [
            "Enter the first value: 5\n",
            "Enter the second value: 3\n",
            "The product is: 2\n"
          ]
        }
      ]
    },
    {
      "cell_type": "markdown",
      "source": [
        "Exponential Calculation Program"
      ],
      "metadata": {
        "id": "y2ZuYJpUx-Yo"
      }
    },
    {
      "cell_type": "code",
      "source": [
        "a = 5\n",
        "b = 2\n",
        "c = a**b\n",
        "print(\"The exponential (power) is:\", c)"
      ],
      "metadata": {
        "colab": {
          "base_uri": "https://localhost:8080/"
        },
        "id": "AycyhVi2oJ22",
        "outputId": "8ec1bce7-ff49-44f0-98c5-3d03c766fbf3"
      },
      "execution_count": null,
      "outputs": [
        {
          "output_type": "stream",
          "name": "stdout",
          "text": [
            "The exponential (power) is: 25\n"
          ]
        }
      ]
    },
    {
      "cell_type": "markdown",
      "source": [
        "Comparison of Two Values / Equality Check"
      ],
      "metadata": {
        "id": "Xg-aLctJyLQY"
      }
    },
    {
      "cell_type": "code",
      "source": [
        "a=3\n",
        "b=9\n",
        "a==b"
      ],
      "metadata": {
        "colab": {
          "base_uri": "https://localhost:8080/"
        },
        "id": "QNVzIefxoOZW",
        "outputId": "39f648d8-3b6e-47b9-852e-b9a2bd88cce4"
      },
      "execution_count": null,
      "outputs": [
        {
          "output_type": "execute_result",
          "data": {
            "text/plain": [
              "False"
            ]
          },
          "metadata": {},
          "execution_count": 15
        }
      ]
    },
    {
      "cell_type": "markdown",
      "source": [
        "Floor Division Calculation"
      ],
      "metadata": {
        "id": "r4UsnNkxyU0A"
      }
    },
    {
      "cell_type": "code",
      "source": [
        "False\n",
        "a = 7\n",
        "b = 8\n",
        "c = a//b\n",
        "print(\"The division (floor) is:\", c)"
      ],
      "metadata": {
        "colab": {
          "base_uri": "https://localhost:8080/"
        },
        "id": "a4cqXbt3oTNB",
        "outputId": "774cfea5-fabf-44c2-9a78-8b1a730139a9"
      },
      "execution_count": null,
      "outputs": [
        {
          "output_type": "stream",
          "name": "stdout",
          "text": [
            "The division (floor) is: 0\n"
          ]
        }
      ]
    },
    {
      "cell_type": "markdown",
      "source": [
        "Nested List Example"
      ],
      "metadata": {
        "id": "cRmdUllCydZj"
      }
    },
    {
      "cell_type": "code",
      "source": [
        "A=[1,2,3]\n",
        "B=[4,5,6]\n",
        "list_1=[A,B]\n",
        "print(list_1)"
      ],
      "metadata": {
        "colab": {
          "base_uri": "https://localhost:8080/"
        },
        "id": "Qtvu49aZoVwZ",
        "outputId": "6d483127-0609-436e-9c2c-849450114fd8"
      },
      "execution_count": null,
      "outputs": [
        {
          "output_type": "stream",
          "name": "stdout",
          "text": [
            "[[1, 2, 3], [4, 5, 6]]\n"
          ]
        }
      ]
    },
    {
      "cell_type": "markdown",
      "source": [
        "Element Access in Nested Lists"
      ],
      "metadata": {
        "id": "TMPTqXoMyki8"
      }
    },
    {
      "cell_type": "code",
      "source": [
        "A=[1,2,3]\n",
        "B=[4,5,6]\n",
        "list_1=[A,B]\n",
        "print(list_1[1][2])"
      ],
      "metadata": {
        "colab": {
          "base_uri": "https://localhost:8080/"
        },
        "id": "ElCJyNFEobfq",
        "outputId": "4abbc4cb-8219-45b0-c02a-296bd8e1d0c4"
      },
      "execution_count": null,
      "outputs": [
        {
          "output_type": "stream",
          "name": "stdout",
          "text": [
            "6\n"
          ]
        }
      ]
    }
  ]
}